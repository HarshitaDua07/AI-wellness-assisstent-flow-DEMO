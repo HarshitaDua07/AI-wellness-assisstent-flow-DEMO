{
  "nbformat": 4,
  "nbformat_minor": 0,
  "metadata": {
    "colab": {
      "provenance": [],
      "authorship_tag": "ABX9TyO4cNh/Eyzmtlg88ajAyWZZ",
      "include_colab_link": true
    },
    "kernelspec": {
      "name": "python3",
      "display_name": "Python 3"
    },
    "language_info": {
      "name": "python"
    }
  },
  "cells": [
    {
      "cell_type": "markdown",
      "metadata": {
        "id": "view-in-github",
        "colab_type": "text"
      },
      "source": [
        "<a href=\"https://colab.research.google.com/github/HarshitaDua07/AI-wellness-assisstent-flow-DEMO/blob/main/AI_wellness_assisstent_flow.ipynb\" target=\"_parent\"><img src=\"https://colab.research.google.com/assets/colab-badge.svg\" alt=\"Open In Colab\"/></a>"
      ]
    },
    {
      "cell_type": "code",
      "execution_count": 1,
      "metadata": {
        "colab": {
          "base_uri": "https://localhost:8080/"
        },
        "id": "PdOGPkfBfsyR",
        "outputId": "f6852a75-1577-457a-d153-61a87d678db1"
      },
      "outputs": [
        {
          "output_type": "stream",
          "name": "stdout",
          "text": [
            "Requirement already satisfied: fastapi in /usr/local/lib/python3.11/dist-packages (0.116.1)\n",
            "Requirement already satisfied: uvicorn in /usr/local/lib/python3.11/dist-packages (0.35.0)\n",
            "Requirement already satisfied: nest_asyncio in /usr/local/lib/python3.11/dist-packages (1.6.0)\n",
            "Collecting pyngrok\n",
            "  Downloading pyngrok-7.3.0-py3-none-any.whl.metadata (8.1 kB)\n",
            "Requirement already satisfied: starlette<0.48.0,>=0.40.0 in /usr/local/lib/python3.11/dist-packages (from fastapi) (0.47.2)\n",
            "Requirement already satisfied: pydantic!=1.8,!=1.8.1,!=2.0.0,!=2.0.1,!=2.1.0,<3.0.0,>=1.7.4 in /usr/local/lib/python3.11/dist-packages (from fastapi) (2.11.7)\n",
            "Requirement already satisfied: typing-extensions>=4.8.0 in /usr/local/lib/python3.11/dist-packages (from fastapi) (4.14.1)\n",
            "Requirement already satisfied: click>=7.0 in /usr/local/lib/python3.11/dist-packages (from uvicorn) (8.2.1)\n",
            "Requirement already satisfied: h11>=0.8 in /usr/local/lib/python3.11/dist-packages (from uvicorn) (0.16.0)\n",
            "Requirement already satisfied: PyYAML>=5.1 in /usr/local/lib/python3.11/dist-packages (from pyngrok) (6.0.2)\n",
            "Requirement already satisfied: annotated-types>=0.6.0 in /usr/local/lib/python3.11/dist-packages (from pydantic!=1.8,!=1.8.1,!=2.0.0,!=2.0.1,!=2.1.0,<3.0.0,>=1.7.4->fastapi) (0.7.0)\n",
            "Requirement already satisfied: pydantic-core==2.33.2 in /usr/local/lib/python3.11/dist-packages (from pydantic!=1.8,!=1.8.1,!=2.0.0,!=2.0.1,!=2.1.0,<3.0.0,>=1.7.4->fastapi) (2.33.2)\n",
            "Requirement already satisfied: typing-inspection>=0.4.0 in /usr/local/lib/python3.11/dist-packages (from pydantic!=1.8,!=1.8.1,!=2.0.0,!=2.0.1,!=2.1.0,<3.0.0,>=1.7.4->fastapi) (0.4.1)\n",
            "Requirement already satisfied: anyio<5,>=3.6.2 in /usr/local/lib/python3.11/dist-packages (from starlette<0.48.0,>=0.40.0->fastapi) (4.10.0)\n",
            "Requirement already satisfied: idna>=2.8 in /usr/local/lib/python3.11/dist-packages (from anyio<5,>=3.6.2->starlette<0.48.0,>=0.40.0->fastapi) (3.10)\n",
            "Requirement already satisfied: sniffio>=1.1 in /usr/local/lib/python3.11/dist-packages (from anyio<5,>=3.6.2->starlette<0.48.0,>=0.40.0->fastapi) (1.3.1)\n",
            "Downloading pyngrok-7.3.0-py3-none-any.whl (25 kB)\n",
            "Installing collected packages: pyngrok\n",
            "Successfully installed pyngrok-7.3.0\n"
          ]
        }
      ],
      "source": [
        "!pip install fastapi uvicorn nest_asyncio pyngrok\n"
      ]
    },
    {
      "cell_type": "code",
      "source": [
        "from fastapi import FastAPI\n",
        "from pydantic import BaseModel\n",
        "from typing import Optional, List, Dict\n",
        "import re\n",
        "import nest_asyncio\n",
        "from pyngrok import ngrok\n",
        "import uvicorn\n",
        "\n",
        "app = FastAPI(title=\"AI Wellness Demo\", version=\"0.1\")\n",
        "\n",
        "class MessageIn(BaseModel):\n",
        "    text: str\n",
        "    user_id: Optional[str] = None\n",
        "\n",
        "SYMPTOM_KEYWORDS = {\n",
        "    \"tired\": [\"Anemia\", \"Chronic Fatigue Syndrome\", \"Depression\"],\n",
        "    \"fatigue\": [\"Anemia\", \"Chronic Fatigue Syndrome\", \"Hypothyroidism\"],\n",
        "    \"dizzy\": [\"Hypotension\", \"Dehydration\", \"Vertigo\"],\n",
        "    \"faint\": [\"Syncope\", \"Severe Dehydration\"],\n",
        "    \"headache\": [\"Migraine\", \"Tension Headache\", \"Hypertension\"],\n",
        "    \"fever\": [\"Infection\", \"Influenza\"],\n",
        "    \"chest pain\": [\"Heart attack\", \"Angina\"],\n",
        "    \"shortness of breath\": [\"Asthma\", \"Pneumonia\", \"Heart failure\"]\n",
        "}\n",
        "\n",
        "URGENCY_PHRASES = [\"chest pain\", \"shortness of breath\", \"faint\", \"passing out\", \"severe bleeding\"]\n",
        "\n",
        "RECOMMENDATIONS = {\n",
        "    \"Anemia\": \"Eat iron-rich foods (spinach, lentils, beetroot). Consider a blood test.\",\n",
        "    \"Chronic Fatigue Syndrome\": \"Maintain good sleep hygiene and gentle exercise.\",\n",
        "    \"Hypotension\": \"Hydrate, rise slowly from sitting.\",\n",
        "    \"Dehydration\": \"Drink extra fluids, avoid alcohol/caffeine.\",\n",
        "    \"Vertigo\": \"Try vestibular exercises; consult ENT if persistent.\",\n",
        "    \"Migraine\": \"Rest in a dark room, use OTC meds if safe.\",\n",
        "    \"Heart attack\": \"Possible emergency. Call emergency services immediately.\"\n",
        "}\n",
        "\n",
        "def detect_intent(text: str) -> str:\n",
        "    if any(k in text.lower() for k in SYMPTOM_KEYWORDS.keys()):\n",
        "        return \"SymptomCheck\"\n",
        "    return \"GeneralQuery\"\n",
        "\n",
        "def extract_entities(text: str) -> List[str]:\n",
        "    txt = text.lower()\n",
        "    found = []\n",
        "    keys = sorted(SYMPTOM_KEYWORDS.keys(), key=lambda x: -len(x))\n",
        "    for k in keys:\n",
        "        if k in txt:\n",
        "            found.append(k)\n",
        "    words = re.findall(r\"\\w+\", txt)\n",
        "    for w in words:\n",
        "        if w in SYMPTOM_KEYWORDS and w not in found:\n",
        "            found.append(w)\n",
        "    return found\n",
        "\n",
        "def rank_conditions(symptoms: List[str]) -> List[Dict]:\n",
        "    scores = {}\n",
        "    for s in symptoms:\n",
        "        for cond in SYMPTOM_KEYWORDS.get(s, []):\n",
        "            scores[cond] = scores.get(cond, 0) + 1\n",
        "    if not scores:\n",
        "        return []\n",
        "    max_score = max(scores.values())\n",
        "    ranked = sorted(scores.items(), key=lambda x: x[1], reverse=True)\n",
        "    return [{\"condition\": c, \"score\": round(s / max_score, 2)} for c, s in ranked]\n",
        "\n",
        "def check_urgency(text: str) -> bool:\n",
        "    return any(p in text.lower() for p in URGENCY_PHRASES)\n",
        "\n",
        "@app.post(\"/api/v1/message\")\n",
        "def message(in_msg: MessageIn):\n",
        "    intent = detect_intent(in_msg.text)\n",
        "    entities = extract_entities(in_msg.text)\n",
        "    conditions = rank_conditions(entities)\n",
        "    urgent = check_urgency(in_msg.text)\n",
        "    recommendations = {\n",
        "        c[\"condition\"]: RECOMMENDATIONS.get(\n",
        "            c[\"condition\"], \"General advice: stay hydrated and consult a clinician.\"\n",
        "        ) for c in conditions\n",
        "    }\n",
        "    return {\n",
        "        \"intent\": intent,\n",
        "        \"entities\": entities,\n",
        "        \"conditions\": conditions,\n",
        "        \"recommendations\": recommendations,\n",
        "        \"safety\": {\"urgent\": urgent},\n",
        "        \"disclaimer\": \"This is not a diagnosis. Consult a doctor.\"\n",
        "    }\n"
      ],
      "metadata": {
        "id": "GEMo_OAHgBg-"
      },
      "execution_count": 4,
      "outputs": []
    },
    {
      "cell_type": "code",
      "source": [
        "# Start server in background\n",
        "!pip install fastapi uvicorn pyngrok nest_asyncio requests\n",
        "\n",
        "import nest_asyncio\n",
        "from pyngrok import ngrok\n",
        "\n",
        "nest_asyncio.apply()\n",
        "\n",
        "from fastapi import FastAPI\n",
        "from pydantic import BaseModel\n",
        "from typing import Optional, List, Dict\n",
        "\n",
        "app = FastAPI()\n",
        "\n",
        "class MessageIn(BaseModel):\n",
        "    text: str\n",
        "    user_id: Optional[str] = None\n",
        "\n",
        "SYMPTOM_KEYWORDS = {\n",
        "    \"tired\": [\"Anemia\", \"Chronic Fatigue Syndrome\", \"Depression\"],\n",
        "    \"fatigue\": [\"Anemia\", \"Chronic Fatigue Syndrome\", \"Hypothyroidism\"],\n",
        "    \"dizzy\": [\"Hypotension\", \"Dehydration\", \"Vertigo\"],\n",
        "}\n",
        "\n",
        "def extract_entities(text: str) -> List[str]:\n",
        "    return [k for k in SYMPTOM_KEYWORDS if k in text.lower()]\n",
        "\n",
        "def rank_conditions(symptoms: List[str]) -> List[Dict]:\n",
        "    scores = {}\n",
        "    for s in symptoms:\n",
        "        for cond in SYMPTOM_KEYWORDS.get(s, []):\n",
        "            scores[cond] = scores.get(cond, 0) + 1\n",
        "    return [{\"condition\": c, \"score\": s} for c, s in scores.items()]\n",
        "\n",
        "@app.post(\"/api/v1/message\")\n",
        "def message(in_msg: MessageIn):\n",
        "    entities = extract_entities(in_msg.text)\n",
        "    conditions = rank_conditions(entities)\n",
        "    return {\"entities\": entities, \"conditions\": conditions}\n",
        "\n",
        "# Start ngrok tunnel\n",
        "public_url = ngrok.connect(8000)\n",
        "print(\"Public URL:\", public_url)\n",
        "\n",
        "# Run uvicorn in background\n",
        "import threading\n",
        "import uvicorn\n",
        "threading.Thread(target=uvicorn.run, args=(app,), kwargs={\"host\":\"0.0.0.0\", \"port\":8000}).start()\n"
      ],
      "metadata": {
        "colab": {
          "base_uri": "https://localhost:8080/"
        },
        "id": "JDfWiUAjgBu9",
        "outputId": "7a8fcdbf-b7a2-4ff4-f2de-213edff3737f"
      },
      "execution_count": 12,
      "outputs": [
        {
          "output_type": "stream",
          "name": "stderr",
          "text": [
            "ERROR:asyncio:Task exception was never retrieved\n",
            "future: <Task finished name='Task-19' coro=<Server.serve() done, defined at /usr/local/lib/python3.11/dist-packages/uvicorn/server.py:69> exception=KeyboardInterrupt()>\n",
            "Traceback (most recent call last):\n",
            "  File \"/usr/local/lib/python3.11/dist-packages/uvicorn/main.py\", line 580, in run\n",
            "    server.run()\n",
            "  File \"/usr/local/lib/python3.11/dist-packages/uvicorn/server.py\", line 67, in run\n",
            "    return asyncio.run(self.serve(sockets=sockets))\n",
            "           ^^^^^^^^^^^^^^^^^^^^^^^^^^^^^^^^^^^^^^^^\n",
            "  File \"/usr/local/lib/python3.11/dist-packages/nest_asyncio.py\", line 30, in run\n",
            "    return loop.run_until_complete(task)\n",
            "           ^^^^^^^^^^^^^^^^^^^^^^^^^^^^^\n",
            "  File \"/usr/local/lib/python3.11/dist-packages/nest_asyncio.py\", line 92, in run_until_complete\n",
            "    self._run_once()\n",
            "  File \"/usr/local/lib/python3.11/dist-packages/nest_asyncio.py\", line 133, in _run_once\n",
            "    handle._run()\n",
            "  File \"/usr/lib/python3.11/asyncio/events.py\", line 84, in _run\n",
            "    self._context.run(self._callback, *self._args)\n",
            "  File \"/usr/lib/python3.11/asyncio/tasks.py\", line 360, in __wakeup\n",
            "    self.__step()\n",
            "  File \"/usr/lib/python3.11/asyncio/tasks.py\", line 277, in __step\n",
            "    result = coro.send(None)\n",
            "             ^^^^^^^^^^^^^^^\n",
            "  File \"/usr/local/lib/python3.11/dist-packages/uvicorn/server.py\", line 70, in serve\n",
            "    with self.capture_signals():\n",
            "  File \"/usr/lib/python3.11/contextlib.py\", line 144, in __exit__\n",
            "    next(self.gen)\n",
            "  File \"/usr/local/lib/python3.11/dist-packages/uvicorn/server.py\", line 331, in capture_signals\n",
            "    signal.raise_signal(captured_signal)\n",
            "KeyboardInterrupt\n"
          ]
        },
        {
          "output_type": "stream",
          "name": "stdout",
          "text": [
            "Requirement already satisfied: fastapi in /usr/local/lib/python3.11/dist-packages (0.116.1)\n",
            "Requirement already satisfied: uvicorn in /usr/local/lib/python3.11/dist-packages (0.35.0)\n",
            "Requirement already satisfied: pyngrok in /usr/local/lib/python3.11/dist-packages (7.3.0)\n",
            "Requirement already satisfied: nest_asyncio in /usr/local/lib/python3.11/dist-packages (1.6.0)\n",
            "Requirement already satisfied: requests in /usr/local/lib/python3.11/dist-packages (2.32.3)\n",
            "Requirement already satisfied: starlette<0.48.0,>=0.40.0 in /usr/local/lib/python3.11/dist-packages (from fastapi) (0.47.2)\n",
            "Requirement already satisfied: pydantic!=1.8,!=1.8.1,!=2.0.0,!=2.0.1,!=2.1.0,<3.0.0,>=1.7.4 in /usr/local/lib/python3.11/dist-packages (from fastapi) (2.11.7)\n",
            "Requirement already satisfied: typing-extensions>=4.8.0 in /usr/local/lib/python3.11/dist-packages (from fastapi) (4.14.1)\n",
            "Requirement already satisfied: click>=7.0 in /usr/local/lib/python3.11/dist-packages (from uvicorn) (8.2.1)\n",
            "Requirement already satisfied: h11>=0.8 in /usr/local/lib/python3.11/dist-packages (from uvicorn) (0.16.0)\n",
            "Requirement already satisfied: PyYAML>=5.1 in /usr/local/lib/python3.11/dist-packages (from pyngrok) (6.0.2)\n",
            "Requirement already satisfied: charset-normalizer<4,>=2 in /usr/local/lib/python3.11/dist-packages (from requests) (3.4.2)\n",
            "Requirement already satisfied: idna<4,>=2.5 in /usr/local/lib/python3.11/dist-packages (from requests) (3.10)\n",
            "Requirement already satisfied: urllib3<3,>=1.21.1 in /usr/local/lib/python3.11/dist-packages (from requests) (2.5.0)\n",
            "Requirement already satisfied: certifi>=2017.4.17 in /usr/local/lib/python3.11/dist-packages (from requests) (2025.8.3)\n",
            "Requirement already satisfied: annotated-types>=0.6.0 in /usr/local/lib/python3.11/dist-packages (from pydantic!=1.8,!=1.8.1,!=2.0.0,!=2.0.1,!=2.1.0,<3.0.0,>=1.7.4->fastapi) (0.7.0)\n",
            "Requirement already satisfied: pydantic-core==2.33.2 in /usr/local/lib/python3.11/dist-packages (from pydantic!=1.8,!=1.8.1,!=2.0.0,!=2.0.1,!=2.1.0,<3.0.0,>=1.7.4->fastapi) (2.33.2)\n",
            "Requirement already satisfied: typing-inspection>=0.4.0 in /usr/local/lib/python3.11/dist-packages (from pydantic!=1.8,!=1.8.1,!=2.0.0,!=2.0.1,!=2.1.0,<3.0.0,>=1.7.4->fastapi) (0.4.1)\n",
            "Requirement already satisfied: anyio<5,>=3.6.2 in /usr/local/lib/python3.11/dist-packages (from starlette<0.48.0,>=0.40.0->fastapi) (4.10.0)\n",
            "Requirement already satisfied: sniffio>=1.1 in /usr/local/lib/python3.11/dist-packages (from anyio<5,>=3.6.2->starlette<0.48.0,>=0.40.0->fastapi) (1.3.1)\n",
            "Public URL: NgrokTunnel: \"https://a25e5bc61904.ngrok-free.app\" -> \"http://localhost:8000\"\n"
          ]
        },
        {
          "output_type": "stream",
          "name": "stderr",
          "text": [
            "INFO:     Started server process [592]\n",
            "INFO:     Waiting for application startup.\n",
            "INFO:     Application startup complete.\n",
            "INFO:     Uvicorn running on http://0.0.0.0:8000 (Press CTRL+C to quit)\n"
          ]
        }
      ]
    },
    {
      "cell_type": "code",
      "source": [
        "import requests\n",
        "\n",
        "url = \"https://a25e5bc61904.ngrok-free.app/api/v1/message\"\n",
        "\n",
        "# Ask the user for input\n",
        "user_message = input(\"Enter your message: \")\n",
        "\n",
        "# Create payload dynamically\n",
        "payload = {\"text\": user_message, \"user_id\": \"demo_user\"}\n",
        "\n",
        "# Send POST request\n",
        "r = requests.post(url, json=payload)\n",
        "\n",
        "# Print the JSON response\n",
        "print(r.json())\n"
      ],
      "metadata": {
        "colab": {
          "base_uri": "https://localhost:8080/"
        },
        "id": "0HdGMR91l7SS",
        "outputId": "a1f69c9b-864e-48e6-e31d-9142135a5512"
      },
      "execution_count": 14,
      "outputs": [
        {
          "output_type": "stream",
          "name": "stdout",
          "text": [
            "Enter your message: I have been feeling tired and dizzy.\n",
            "INFO:     35.231.53.59:0 - \"POST /api/v1/message HTTP/1.1\" 200 OK\n",
            "{'entities': ['tired', 'dizzy'], 'conditions': [{'condition': 'Anemia', 'score': 1}, {'condition': 'Chronic Fatigue Syndrome', 'score': 1}, {'condition': 'Depression', 'score': 1}, {'condition': 'Hypotension', 'score': 1}, {'condition': 'Dehydration', 'score': 1}, {'condition': 'Vertigo', 'score': 1}]}\n"
          ]
        }
      ]
    }
  ]
}